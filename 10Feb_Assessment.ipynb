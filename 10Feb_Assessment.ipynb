{
 "cells": [
  {
   "cell_type": "markdown",
   "id": "10c6db34",
   "metadata": {},
   "source": [
    "### Q1. Which function is used to open a file? What are the different modes of opening a file? Explain each mode of file opening."
   ]
  },
  {
   "cell_type": "markdown",
   "id": "f06ee274",
   "metadata": {},
   "source": [
    "#### In Python, the open() function is used to open a file. The different modes in which a file can be opened are:\n",
    "\n",
    "#### 'r' (Read Only) - This is the default mode and is used to only read the file. The file pointer is placed at the beginning of the file. If the file does not exist, it will raise a FileNotFoundError.\n",
    "\n",
    "#### 'w' (Write Only) - This mode is used to write to a file. If the file already exists, its content is truncated, meaning that all previous data is deleted. If the file does not exist, a new file will be created.\n",
    "\n",
    "#### 'a' (Append Only) - This mode is used to add data to an existing file. The file pointer is placed at the end of the file, so new data will be added to the end of the existing data. If the file does not exist, a new file will be created.\n",
    "\n",
    "#### 'x' (Exclusive Creation) - This mode is used to create a new file, but only if it does not already exist. If the file already exists, it will raise a FileExistsError.\n",
    "\n",
    "#### 'b' (Binary Mode) - This mode is used to open a binary file, such as an image or audio file. It can be combined with other modes, such as 'rb' (read binary) or 'wb' (write binary).\n",
    "\n",
    "#### 't' (Text Mode) - This mode is used to open a text file, such as a .txt or .py file. It is the default mode and can be combined with other modes, such as 'rt' (read text) or 'wt' (write text)."
   ]
  },
  {
   "cell_type": "markdown",
   "id": "ba21b439",
   "metadata": {},
   "source": [
    "### Q2. Why close() function is used? Why is it important to close a file?"
   ]
  },
  {
   "cell_type": "markdown",
   "id": "a75d712e",
   "metadata": {},
   "source": [
    "#### The close() function is used to close an open file. It is important to close a file because it frees up the resources that were being used by the file. When a file is opened, the operating system allocates memory and other resources to keep track of the file, and these resources will continue to be used until the file is closed.\n",
    "\n",
    "#### If you have multiple files open and you do not close them, you may run out of resources, and your program may crash or behave unexpectedly. Closing a file also ensures that any changes you have made to the file are saved and that the file is in a consistent state.\n",
    "\n",
    "#### It is a good programming practice to always close a file after you have finished working with it, even if your program does not crash. This can be done using a try...finally block, where the file is closed in the finally block, or by using a with statement, which automatically closes the file when the block is exited."
   ]
  },
  {
   "cell_type": "markdown",
   "id": "ec309a24",
   "metadata": {},
   "source": [
    "### Q3. Write a python program to create a text file. Write ‘I want to become a Data Scientist’ in that file. Then close the file. Open this file and read the content of the file."
   ]
  },
  {
   "cell_type": "code",
   "execution_count": 1,
   "id": "48a51352",
   "metadata": {},
   "outputs": [
    {
     "name": "stdout",
     "output_type": "stream",
     "text": [
      "I want to become a Data Scientist\n"
     ]
    }
   ],
   "source": [
    "# Create a text file and write to it\n",
    "file = open(\"file.txt\", \"w\")\n",
    "file.write(\"I want to become a Data Scientist\")\n",
    "file.close()\n",
    "\n",
    "# Open the file and read its contents\n",
    "file = open(\"file.txt\", \"r\")\n",
    "content = file.read()\n",
    "print(content)\n",
    "file.close()"
   ]
  },
  {
   "cell_type": "markdown",
   "id": "15174c06",
   "metadata": {},
   "source": [
    "### Q4. Explain the following with python code: read(), readline() and readlines()."
   ]
  },
  {
   "cell_type": "markdown",
   "id": "9789a4d4",
   "metadata": {},
   "source": [
    "#### In Python, there are several ways to read data from a file, including read(), readline(), and readlines(). \n",
    "#### read() reads the entire contents of the file and returns it as a single string. Here's an example:"
   ]
  },
  {
   "cell_type": "code",
   "execution_count": 2,
   "id": "5c0dd03a",
   "metadata": {},
   "outputs": [
    {
     "name": "stdout",
     "output_type": "stream",
     "text": [
      "I want to become a Data Scientist\n"
     ]
    }
   ],
   "source": [
    "file = open(\"file.txt\", \"r\")\n",
    "content = file.read()\n",
    "print(content)\n",
    "file.close()"
   ]
  },
  {
   "cell_type": "markdown",
   "id": "d051ee54",
   "metadata": {},
   "source": [
    "#### readline() reads a single line from the file and returns it as a string. You can use a loop to read all lines in the file:"
   ]
  },
  {
   "cell_type": "code",
   "execution_count": 3,
   "id": "b755508f",
   "metadata": {},
   "outputs": [
    {
     "name": "stdout",
     "output_type": "stream",
     "text": [
      "I want to become a Data Scientist\n"
     ]
    }
   ],
   "source": [
    "file = open(\"file.txt\", \"r\")\n",
    "line = file.readline()\n",
    "while line:\n",
    "    print(line)\n",
    "    line = file.readline()\n",
    "file.close()"
   ]
  },
  {
   "cell_type": "markdown",
   "id": "2358cb90",
   "metadata": {},
   "source": [
    "#### readlines() reads all lines in the file and returns them as a list of strings, where each string is a single line in the file. Here's an example:"
   ]
  },
  {
   "cell_type": "code",
   "execution_count": 4,
   "id": "c1b9a2e3",
   "metadata": {},
   "outputs": [
    {
     "name": "stdout",
     "output_type": "stream",
     "text": [
      "I want to become a Data Scientist\n"
     ]
    }
   ],
   "source": [
    "file = open(\"file.txt\", \"r\")\n",
    "lines = file.readlines()\n",
    "for line in lines:\n",
    "    print(line)\n",
    "file.close()"
   ]
  },
  {
   "cell_type": "markdown",
   "id": "e25d158d",
   "metadata": {},
   "source": [
    "### Q5. Explain why with statement is used with open(). What is the advantage of using with statement and open() together?"
   ]
  },
  {
   "cell_type": "markdown",
   "id": "9cd3fc73",
   "metadata": {},
   "source": [
    "#### The 'with' statement is used with the 'open()' function to ensure that a file is automatically closed after it is used, even if an exception occurs. The with statement provides a way to wrap the file operations in a block of code and ensure that the file is closed when the block is exited, even if an exception is raised. \n",
    "#### Here's an example of using the with statement with the open() function:"
   ]
  },
  {
   "cell_type": "code",
   "execution_count": 5,
   "id": "624b6827",
   "metadata": {},
   "outputs": [
    {
     "name": "stdout",
     "output_type": "stream",
     "text": [
      "I want to become a Data Scientist\n"
     ]
    }
   ],
   "source": [
    "with open(\"file.txt\", \"r\") as file:\n",
    "    content = file.read()\n",
    "    print(content)"
   ]
  },
  {
   "cell_type": "markdown",
   "id": "f787ac51",
   "metadata": {},
   "source": [
    "#### The advantage of using the with statement with open() is that it ensures that the file is properly closed, even if an exception occurs. This helps to prevent resource leaks and improve the reliability of your code. When you use the with statement, you don't have to remember to manually close the file, which can be especially helpful when working with multiple files or when writing complex code."
   ]
  },
  {
   "cell_type": "markdown",
   "id": "d1f0c59f",
   "metadata": {},
   "source": [
    "### Q6. Explain the write() and writelines() functions. Give a suitable example."
   ]
  },
  {
   "cell_type": "markdown",
   "id": "fec54a67",
   "metadata": {},
   "source": [
    "#### In Python, you can use the write() and writelines() functions to write data to a file. \n",
    "#### The write() function writes a string to the file. Here's an example:"
   ]
  },
  {
   "cell_type": "code",
   "execution_count": 8,
   "id": "bf1df48b",
   "metadata": {},
   "outputs": [],
   "source": [
    "with open(\"file.txt\", \"w\") as file:\n",
    "    file.write(\"I want to become a Data Scientist\")"
   ]
  },
  {
   "cell_type": "markdown",
   "id": "7e39d285",
   "metadata": {},
   "source": [
    "#### In this example, the open() function is used to open a file in \"w\" mode (write mode), and the write() function is used to write the string \"I want to become a Data Scientist\" to the file. The with statement is used to wrap the file operations in a block of code, and the file is automatically closed when the block is exited.\n",
    "\n",
    "#### The writelines() function writes a list of strings to the file. Here's an example:"
   ]
  },
  {
   "cell_type": "code",
   "execution_count": 9,
   "id": "4ad26654",
   "metadata": {},
   "outputs": [],
   "source": [
    "with open(\"file.txt\", \"w\") as file:\n",
    "    lines = [\"I want to become a Data Scientist\", \"Data Science is the future\"]\n",
    "    file.writelines(lines)"
   ]
  },
  {
   "cell_type": "markdown",
   "id": "837233ae",
   "metadata": {},
   "source": [
    "#### In this example, a list of strings is created, and the writelines() function is used to write the list to the file. The with statement is used to wrap the file operations in a block of code, and the file is automatically closed when the block is exited.\n",
    "\n",
    "#### It's important to note that the writelines() function does not add newline characters to the end of each line, so if you want each string in the list to be on a separate line in the file, you'll need to add a newline character to each string. You can do this by using the join() method, like this:"
   ]
  },
  {
   "cell_type": "code",
   "execution_count": 10,
   "id": "73d3d256",
   "metadata": {},
   "outputs": [],
   "source": [
    "with open(\"file.txt\", \"w\") as file:\n",
    "    lines = [\"I want to become a Data Scientist\\n\", \"Data Science is the future\\n\"]\n",
    "    file.writelines(lines)"
   ]
  },
  {
   "cell_type": "code",
   "execution_count": null,
   "id": "d37d5438",
   "metadata": {},
   "outputs": [],
   "source": []
  }
 ],
 "metadata": {
  "kernelspec": {
   "display_name": "Python 3 (ipykernel)",
   "language": "python",
   "name": "python3"
  },
  "language_info": {
   "codemirror_mode": {
    "name": "ipython",
    "version": 3
   },
   "file_extension": ".py",
   "mimetype": "text/x-python",
   "name": "python",
   "nbconvert_exporter": "python",
   "pygments_lexer": "ipython3",
   "version": "3.9.13"
  }
 },
 "nbformat": 4,
 "nbformat_minor": 5
}
